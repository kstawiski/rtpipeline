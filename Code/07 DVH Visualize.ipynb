{
 "cells": [
  {
   "cell_type": "code",
   "execution_count": 3,
   "id": "8055784d-7fd4-4a9c-86a4-deefd88fbdae",
   "metadata": {},
   "outputs": [
    {
     "ename": "ModuleNotFoundError",
     "evalue": "No module named 'pydicom_seg'",
     "output_type": "error",
     "traceback": [
      "\u001b[0;31m---------------------------------------------------------------------------\u001b[0m",
      "\u001b[0;31mModuleNotFoundError\u001b[0m                       Traceback (most recent call last)",
      "Cell \u001b[0;32mIn[3], line 10\u001b[0m\n\u001b[1;32m      7\u001b[0m \u001b[38;5;28;01mimport\u001b[39;00m\u001b[38;5;250m \u001b[39m\u001b[38;5;21;01mio\u001b[39;00m\n\u001b[1;32m      9\u001b[0m \u001b[38;5;28;01mimport\u001b[39;00m\u001b[38;5;250m \u001b[39m\u001b[38;5;21;01mpydicom\u001b[39;00m\n\u001b[0;32m---> 10\u001b[0m \u001b[38;5;28;01mimport\u001b[39;00m\u001b[38;5;250m \u001b[39m\u001b[38;5;21;01mpydicom_seg\u001b[39;00m\n\u001b[1;32m     11\u001b[0m \u001b[38;5;28;01mimport\u001b[39;00m\u001b[38;5;250m \u001b[39m\u001b[38;5;21;01mSimpleITK\u001b[39;00m\u001b[38;5;250m \u001b[39m\u001b[38;5;28;01mas\u001b[39;00m\u001b[38;5;250m \u001b[39m\u001b[38;5;21;01msitk\u001b[39;00m\n\u001b[1;32m     13\u001b[0m \u001b[38;5;66;03m# -----------------------------------------------------\u001b[39;00m\n\u001b[1;32m     14\u001b[0m \u001b[38;5;66;03m# 1) DVH Analysis\u001b[39;00m\n\u001b[1;32m     15\u001b[0m \u001b[38;5;66;03m# -----------------------------------------------------\u001b[39;00m\n",
      "\u001b[0;31mModuleNotFoundError\u001b[0m: No module named 'pydicom_seg'"
     ]
    }
   ],
   "source": [
    "import os\n",
    "import re\n",
    "import numpy as np\n",
    "import pandas as pd\n",
    "import matplotlib.pyplot as plt\n",
    "import base64\n",
    "import io\n",
    "\n",
    "import pydicom\n",
    "import pydicom_seg\n",
    "import SimpleITK as sitk\n",
    "\n",
    "# -----------------------------------------------------\n",
    "# 1) DVH Analysis\n",
    "# -----------------------------------------------------\n",
    "\n",
    "def load_dvh_data(patient_dir):\n",
    "    \"\"\"\n",
    "    Load DVH metrics from 'dvh_metrics.xlsx' in the patient directory.\n",
    "    Returns a pandas DataFrame or None if not found.\n",
    "    \"\"\"\n",
    "    dvh_file = os.path.join(patient_dir, \"dvh_metrics.xlsx\")\n",
    "    if not os.path.exists(dvh_file):\n",
    "        print(f\"DVH file not found in {patient_dir}\")\n",
    "        return None\n",
    "    df = pd.read_excel(dvh_file)\n",
    "    return df\n",
    "\n",
    "def extract_dvh_curve(row):\n",
    "    \"\"\"\n",
    "    Extract DVH curve data points from columns named like 'V{dose}Gy (cm³)'.\n",
    "    Returns (dose_list, rel_vol_list).\n",
    "    \"\"\"\n",
    "    pattern = re.compile(r\"V(\\d+)Gy \\(cm³\\)\")\n",
    "    total_vol = row.get(\"Volume (cm³)\", 0.0)\n",
    "    doses, rel_vol = [], []\n",
    "    for col in row.index:\n",
    "        m = pattern.match(col)\n",
    "        if m and total_vol > 0:\n",
    "            dose_val = float(m.group(1))\n",
    "            vol_cc = row[col]\n",
    "            doses.append(dose_val)\n",
    "            rel_vol.append((vol_cc / total_vol) * 100.0)\n",
    "    # Sort by ascending dose\n",
    "    if doses:\n",
    "        doses, rel_vol = (list(t) for t in zip(*sorted(zip(doses, rel_vol))))\n",
    "    return doses, rel_vol\n",
    "\n",
    "def plot_dvh_curves(df, title):\n",
    "    \"\"\"\n",
    "    Plot DVH curves for all structures in 'df' with dose vs. volume%.\n",
    "    Legend is placed outside the plot to avoid overlap.\n",
    "    Returns a matplotlib Figure.\n",
    "    \"\"\"\n",
    "    fig, ax = plt.subplots(figsize=(7,5))\n",
    "    for _, row in df.iterrows():\n",
    "        doses, rel_vol = extract_dvh_curve(row)\n",
    "        ax.plot(doses, rel_vol, label=row[\"ROI_Name\"])\n",
    "    ax.set_xlabel(\"Dose (Gy)\")\n",
    "    ax.set_ylabel(\"Volume (%)\")\n",
    "    ax.set_title(title)\n",
    "    ax.grid(True)\n",
    "    ax.legend(bbox_to_anchor=(1.05, 1), loc='upper left', borderaxespad=0.)\n",
    "    plt.tight_layout()\n",
    "    return fig\n",
    "\n",
    "def compute_coverage_and_integral(dvh_df):\n",
    "    \"\"\"\n",
    "    Compute coverage metrics (D95Gy, D2Gy, etc.) and integral dose (mean_dose x volume).\n",
    "    Returns a list of dictionaries, one per structure row in dvh_df.\n",
    "    \"\"\"\n",
    "    results = []\n",
    "    for _, row in dvh_df.iterrows():\n",
    "        structure = row[\"ROI_Name\"]\n",
    "        presc = row.get(\"PrescribedDose_Gy\", np.nan)\n",
    "        d95 = row.get(\"D95Gy\", np.nan)\n",
    "        d98 = row.get(\"D98Gy\", np.nan)\n",
    "        d2  = row.get(\"D2Gy\",  np.nan)\n",
    "        mean_dose = row.get(\"DmeanGy\", np.nan)\n",
    "        vol_cc = row.get(\"Volume (cm³)\", np.nan)\n",
    "        \n",
    "        # e.g. if presc=50 => look for \"V50Gy (%)\"\n",
    "        v_presc = np.nan\n",
    "        if not np.isnan(presc):\n",
    "            presc_col = f\"V{int(round(presc))}Gy (%)\"\n",
    "            v_presc = row.get(presc_col, np.nan)\n",
    "        \n",
    "        integral_dose = np.nan\n",
    "        if not np.isnan(mean_dose) and not np.isnan(vol_cc):\n",
    "            integral_dose = mean_dose * vol_cc\n",
    "        \n",
    "        results.append({\n",
    "            \"Structure\": structure,\n",
    "            \"PrescribedDose_Gy\": presc,\n",
    "            \"D95Gy\": d95,\n",
    "            \"D98Gy\": d98,\n",
    "            \"D2Gy\": d2,\n",
    "            \"V_prescription_%\": v_presc,\n",
    "            \"Volume_cm3\": vol_cc,\n",
    "            \"DmeanGy\": mean_dose,\n",
    "            \"IntegralDose_Gy_cm3\": integral_dose\n",
    "        })\n",
    "    return results\n",
    "\n",
    "def fig_to_base64(fig):\n",
    "    \"\"\"\n",
    "    Convert a matplotlib Figure into a base64-encoded PNG string for embedding in HTML.\n",
    "    \"\"\"\n",
    "    buf = io.BytesIO()\n",
    "    fig.savefig(buf, format='png', bbox_inches='tight')\n",
    "    buf.seek(0)\n",
    "    encoded = base64.b64encode(buf.read()).decode('utf-8')\n",
    "    plt.close(fig)\n",
    "    return encoded\n",
    "\n",
    "# -----------------------------------------------------\n",
    "# 2) Reading DICOM-RT Segmentation & CT with SimpleITK\n",
    "# -----------------------------------------------------\n",
    "\n",
    "def load_ct_sitk(dicom_folder):\n",
    "    \"\"\"\n",
    "    Read a DICOM CT series from 'dicom_folder' using SimpleITK and return a sitk.Image.\n",
    "    \"\"\"\n",
    "    reader = sitk.ImageSeriesReader()\n",
    "    series_ids = reader.GetGDCMSeriesIDs(dicom_folder)\n",
    "    if not series_ids:\n",
    "        print(f\"No DICOM series found in {dicom_folder}\")\n",
    "        return None\n",
    "    file_names = reader.GetGDCMSeriesFileNames(dicom_folder, series_ids[0])\n",
    "    reader.SetFileNames(file_names)\n",
    "    ct_image = reader.Execute()\n",
    "    return ct_image\n",
    "\n",
    "def load_dicom_rt_seg(rt_seg_path):\n",
    "    \"\"\"\n",
    "    Read a DICOM-RT segmentation file (TotalSegmentator.dcm) using pydicom-seg.\n",
    "    Returns a SimpleITK image (label map) or None if fails.\n",
    "    \"\"\"\n",
    "    if not os.path.exists(rt_seg_path):\n",
    "        print(f\"RT segmentation file not found: {rt_seg_path}\")\n",
    "        return None\n",
    "    ds = pydicom.dcmread(rt_seg_path)\n",
    "    reader = pydicom_seg.SegmentReader()\n",
    "    try:\n",
    "        seg_image = reader.read(ds)  # returns a SimpleITK label image\n",
    "        return seg_image\n",
    "    except Exception as e:\n",
    "        print(\"Error reading RT segmentation with pydicom-seg:\", e)\n",
    "        return None\n",
    "\n",
    "def overlay_ct_seg_sitk(ct_image, seg_image, patient_id):\n",
    "    \"\"\"\n",
    "    Convert both sitk.Images to NumPy, then display mid axial/coronal/sagittal slices\n",
    "    with segmentation overlaid. seg_image is assumed to be in the same geometry as ct_image.\n",
    "    Returns a matplotlib Figure.\n",
    "    \"\"\"\n",
    "    # Convert SITK => NumPy arrays. Format: [z, y, x].\n",
    "    ct_array = sitk.GetArrayFromImage(ct_image)\n",
    "    seg_array = sitk.GetArrayFromImage(seg_image)\n",
    "    \n",
    "    # If shapes differ, the segmentation might not match the CT. Possibly resample seg -> ct.\n",
    "    if seg_array.shape != ct_array.shape:\n",
    "        print(f\"Warning: seg shape {seg_array.shape} != CT shape {ct_array.shape}\")\n",
    "        # We can resample if needed, but if the RT-SEG references the same CT,\n",
    "        # they should typically match. We'll skip here to highlight mismatch.\n",
    "    \n",
    "    Nz, Ny, Nx = ct_array.shape\n",
    "    mid_z = Nz // 2\n",
    "    mid_y = Ny // 2\n",
    "    mid_x = Nx // 2\n",
    "    \n",
    "    # Extract mid slices\n",
    "    axial_ct = ct_array[mid_z, :, :]\n",
    "    axial_seg = seg_array[mid_z, :, :]\n",
    "    coronal_ct = ct_array[:, mid_y, :]\n",
    "    coronal_seg = seg_array[:, mid_y, :]\n",
    "    sagittal_ct = ct_array[:, :, mid_x]\n",
    "    sagittal_seg = seg_array[:, :, mid_x]\n",
    "    \n",
    "    fig, axes = plt.subplots(1, 3, figsize=(15,5))\n",
    "    cmap_seg = plt.cm.get_cmap('jet')\n",
    "    \n",
    "    # Axial\n",
    "    axes[0].imshow(axial_ct, cmap='gray', vmin=-200, vmax=200)\n",
    "    mask_axial = np.ma.masked_where(axial_seg == 0, axial_seg)\n",
    "    axes[0].imshow(mask_axial, cmap=cmap_seg, alpha=0.4)\n",
    "    axes[0].set_title(\"Axial (Z)\")\n",
    "    axes[0].axis(\"off\")\n",
    "    \n",
    "    # Coronal\n",
    "    axes[1].imshow(coronal_ct.T, cmap='gray', vmin=-200, vmax=200)\n",
    "    mask_coronal = np.ma.masked_where(coronal_seg.T == 0, coronal_seg.T)\n",
    "    axes[1].imshow(mask_coronal, cmap=cmap_seg, alpha=0.4)\n",
    "    axes[1].set_title(\"Coronal (Y)\")\n",
    "    axes[1].axis(\"off\")\n",
    "    \n",
    "    # Sagittal\n",
    "    axes[2].imshow(sagittal_ct.T, cmap='gray', vmin=-200, vmax=200)\n",
    "    mask_sagittal = np.ma.masked_where(sagittal_seg.T == 0, sagittal_seg.T)\n",
    "    axes[2].imshow(mask_sagittal, cmap=cmap_seg, alpha=0.4)\n",
    "    axes[2].set_title(\"Sagittal (X)\")\n",
    "    axes[2].axis(\"off\")\n",
    "    \n",
    "    fig.suptitle(f\"CT with DICOM-RT Segmentation – Patient {patient_id}\")\n",
    "    plt.tight_layout()\n",
    "    return fig\n",
    "\n",
    "# -----------------------------------------------------\n",
    "# 3) Main Loop: DVH Analysis + RT-Seg Overlay + HTML\n",
    "# -----------------------------------------------------\n",
    "\n",
    "def generate_html_report(base_dir=\"../Data_Organized\"):\n",
    "    \"\"\"\n",
    "    Loop over patient folders in 'base_dir', read dvh_metrics.xlsx, compute coverage, plot DVHs,\n",
    "    load CT from DICOM, load RT segmentation from 'TotalSegmentator.dcm', overlay them,\n",
    "    and generate an HTML report with embedded images + summary metrics.\n",
    "    \"\"\"\n",
    "    coverage_log = []\n",
    "    patient_ids = [d for d in os.listdir(base_dir) if os.path.isdir(os.path.join(base_dir, d))]\n",
    "    \n",
    "    for patient_id in patient_ids:\n",
    "        patient_dir = os.path.join(base_dir, patient_id)\n",
    "        print(f\"Processing patient {patient_id} ...\")\n",
    "        \n",
    "        # 1) Load DVH data\n",
    "        dvh_df = load_dvh_data(patient_dir)\n",
    "        if dvh_df is None:\n",
    "            continue\n",
    "        \n",
    "        # 2) Possibly filter data: e.g., separate targets vs. OARs if you want\n",
    "        # For simplicity, we'll just treat dvh_df as one set. Or do your own logic here.\n",
    "        \n",
    "        # 3) Plot DVH\n",
    "        fig_dvh = plot_dvh_curves(dvh_df, f\"DVH – Patient {patient_id}\")\n",
    "        dvh_b64 = fig_to_base64(fig_dvh)\n",
    "        \n",
    "        # 4) Compute coverage & integral dose\n",
    "        metrics = compute_coverage_and_integral(dvh_df)\n",
    "        for m in metrics:\n",
    "            m[\"Patient\"] = patient_id\n",
    "        coverage_log.extend(metrics)\n",
    "        \n",
    "        # 5) Load CT and RT segmentation\n",
    "        ct_dicom_dir = os.path.join(patient_dir, \"CT_DICOM\")\n",
    "        rt_seg_path = os.path.join(patient_dir, \"TotalSegmentator.dcm\")\n",
    "        \n",
    "        ct_image = load_ct_sitk(ct_dicom_dir)\n",
    "        seg_image = load_dicom_rt_seg(rt_seg_path)\n",
    "        \n",
    "        overlay_b64 = None\n",
    "        if ct_image is not None and seg_image is not None:\n",
    "            fig_overlay = overlay_ct_seg_sitk(ct_image, seg_image, patient_id)\n",
    "            overlay_b64 = fig_to_base64(fig_overlay)\n",
    "        else:\n",
    "            print(\"CT or RT segmentation not available. Skipping overlay.\")\n",
    "        \n",
    "        # 6) Build HTML summary\n",
    "        summary_lines = [f\"<h2>Patient {patient_id} – DVH Metrics Summary</h2>\",\n",
    "                         \"<ul>\"]\n",
    "        for m in metrics:\n",
    "            summary_lines.append(\n",
    "                f\"<li><strong>{m['Structure']}</strong>: \"\n",
    "                f\"D95={m['D95Gy']:.2f} Gy, D2={m['D2Gy']:.2f} Gy, \"\n",
    "                f\"MeanDose={m['DmeanGy']:.2f} Gy, IntegralDose={m['IntegralDose_Gy_cm3']:.1f} Gy·cm³</li>\"\n",
    "            )\n",
    "        summary_lines.append(\"</ul>\")\n",
    "        summary_html = \"\\n\".join(summary_lines)\n",
    "        \n",
    "        # 7) Generate final HTML for this patient\n",
    "        output_dir = os.path.join(patient_dir, \"DVH_Analysis\")\n",
    "        os.makedirs(output_dir, exist_ok=True)\n",
    "        html_path = os.path.join(output_dir, f\"{patient_id}_DVH_Report.html\")\n",
    "        \n",
    "        html_content = f\"\"\"<html>\n",
    "<head>\n",
    "  <meta charset=\"utf-8\">\n",
    "  <title>DVH Analysis – Patient {patient_id}</title>\n",
    "  <style>\n",
    "    body {{ font-family: Arial, sans-serif; margin: 20px; }}\n",
    "    .section {{ margin-bottom: 40px; }}\n",
    "    img {{ max-width: 100%; height: auto; display: block; margin: 10px 0; }}\n",
    "  </style>\n",
    "</head>\n",
    "<body>\n",
    "  <h1>DVH Analysis Report for Patient {patient_id}</h1>\n",
    "  <div class=\"section\">\n",
    "    <h2>DVH Plot</h2>\n",
    "    <img src=\"data:image/png;base64,{dvh_b64}\" />\n",
    "  </div>\n",
    "\"\"\"\n",
    "        if overlay_b64:\n",
    "            html_content += f\"\"\"<div class=\"section\">\n",
    "    <h2>CT & RT-Seg Overlay</h2>\n",
    "    <img src=\"data:image/png;base64,{overlay_b64}\" />\n",
    "  </div>\n",
    "\"\"\"\n",
    "        html_content += f\"\"\"<div class=\"section\">\n",
    "    <h2>Summary Metrics</h2>\n",
    "    {summary_html}\n",
    "  </div>\n",
    "</body>\n",
    "</html>\"\"\"\n",
    "        \n",
    "        with open(html_path, \"w\", encoding=\"utf-8\") as f:\n",
    "            f.write(html_content)\n",
    "        print(f\"HTML report saved to {html_path}\")\n",
    "    \n",
    "    # 8) Save coverage metrics for all patients\n",
    "    coverage_df = pd.DataFrame(coverage_log)\n",
    "    coverage_csv = os.path.join(base_dir, \"DVH_coverage_summary.csv\")\n",
    "    coverage_df.to_csv(coverage_csv, index=False)\n",
    "    print(f\"Coverage metrics saved to {coverage_csv}\")\n",
    "\n",
    "\n",
    "# ------------------------------------------\n",
    "# Example Usage:\n",
    "# generate_html_report(base_dir=\"../Data_Organized\")\n",
    "# ------------------------------------------\n",
    "\n"
   ]
  },
  {
   "cell_type": "code",
   "execution_count": null,
   "id": "98734f0f-d494-4d7f-b0a4-aca82c716381",
   "metadata": {},
   "outputs": [
    {
     "name": "stdout",
     "output_type": "stream",
     "text": [
      "Processing patient 172543 ...\n"
     ]
    },
    {
     "name": "stderr",
     "output_type": "stream",
     "text": [
      "/tmp/ipykernel_87348/1020125737.py:85: UserWarning: Tight layout not applied. The bottom and top margins cannot be made large enough to accommodate all Axes decorations.\n",
      "  plt.tight_layout()\n",
      "/tmp/ipykernel_87348/1020125737.py:209: MatplotlibDeprecationWarning: The get_cmap function was deprecated in Matplotlib 3.7 and will be removed in 3.11. Use ``matplotlib.colormaps[name]`` or ``matplotlib.colormaps.get_cmap()`` or ``pyplot.get_cmap()`` instead.\n",
      "  cmap_seg = plt.cm.get_cmap('jet')\n"
     ]
    },
    {
     "name": "stdout",
     "output_type": "stream",
     "text": [
      "HTML report saved to ../Data_Organized/172543/DVH_Analysis/172543_DVH_Report.html\n",
      "Processing patient 304962 ...\n"
     ]
    },
    {
     "name": "stderr",
     "output_type": "stream",
     "text": [
      "/tmp/ipykernel_87348/1020125737.py:85: UserWarning: Tight layout not applied. The bottom and top margins cannot be made large enough to accommodate all Axes decorations.\n",
      "  plt.tight_layout()\n",
      "/tmp/ipykernel_87348/1020125737.py:209: MatplotlibDeprecationWarning: The get_cmap function was deprecated in Matplotlib 3.7 and will be removed in 3.11. Use ``matplotlib.colormaps[name]`` or ``matplotlib.colormaps.get_cmap()`` or ``pyplot.get_cmap()`` instead.\n",
      "  cmap_seg = plt.cm.get_cmap('jet')\n"
     ]
    },
    {
     "name": "stdout",
     "output_type": "stream",
     "text": [
      "HTML report saved to ../Data_Organized/304962/DVH_Analysis/304962_DVH_Report.html\n",
      "Processing patient 363068 ...\n"
     ]
    },
    {
     "name": "stderr",
     "output_type": "stream",
     "text": [
      "/tmp/ipykernel_87348/1020125737.py:85: UserWarning: Tight layout not applied. The bottom and top margins cannot be made large enough to accommodate all Axes decorations.\n",
      "  plt.tight_layout()\n",
      "/tmp/ipykernel_87348/1020125737.py:209: MatplotlibDeprecationWarning: The get_cmap function was deprecated in Matplotlib 3.7 and will be removed in 3.11. Use ``matplotlib.colormaps[name]`` or ``matplotlib.colormaps.get_cmap()`` or ``pyplot.get_cmap()`` instead.\n",
      "  cmap_seg = plt.cm.get_cmap('jet')\n"
     ]
    },
    {
     "name": "stdout",
     "output_type": "stream",
     "text": [
      "HTML report saved to ../Data_Organized/363068/DVH_Analysis/363068_DVH_Report.html\n",
      "Processing patient 371163 ...\n"
     ]
    },
    {
     "name": "stderr",
     "output_type": "stream",
     "text": [
      "/tmp/ipykernel_87348/1020125737.py:85: UserWarning: Tight layout not applied. The bottom and top margins cannot be made large enough to accommodate all Axes decorations.\n",
      "  plt.tight_layout()\n",
      "/tmp/ipykernel_87348/1020125737.py:209: MatplotlibDeprecationWarning: The get_cmap function was deprecated in Matplotlib 3.7 and will be removed in 3.11. Use ``matplotlib.colormaps[name]`` or ``matplotlib.colormaps.get_cmap()`` or ``pyplot.get_cmap()`` instead.\n",
      "  cmap_seg = plt.cm.get_cmap('jet')\n"
     ]
    },
    {
     "name": "stdout",
     "output_type": "stream",
     "text": [
      "HTML report saved to ../Data_Organized/371163/DVH_Analysis/371163_DVH_Report.html\n",
      "Processing patient 377007 ...\n"
     ]
    },
    {
     "name": "stderr",
     "output_type": "stream",
     "text": [
      "/tmp/ipykernel_87348/1020125737.py:85: UserWarning: Tight layout not applied. The bottom and top margins cannot be made large enough to accommodate all Axes decorations.\n",
      "  plt.tight_layout()\n",
      "/tmp/ipykernel_87348/1020125737.py:209: MatplotlibDeprecationWarning: The get_cmap function was deprecated in Matplotlib 3.7 and will be removed in 3.11. Use ``matplotlib.colormaps[name]`` or ``matplotlib.colormaps.get_cmap()`` or ``pyplot.get_cmap()`` instead.\n",
      "  cmap_seg = plt.cm.get_cmap('jet')\n"
     ]
    },
    {
     "name": "stdout",
     "output_type": "stream",
     "text": [
      "HTML report saved to ../Data_Organized/377007/DVH_Analysis/377007_DVH_Report.html\n",
      "Processing patient 397108 ...\n"
     ]
    },
    {
     "name": "stderr",
     "output_type": "stream",
     "text": [
      "/tmp/ipykernel_87348/1020125737.py:85: UserWarning: Tight layout not applied. The bottom and top margins cannot be made large enough to accommodate all Axes decorations.\n",
      "  plt.tight_layout()\n",
      "/tmp/ipykernel_87348/1020125737.py:209: MatplotlibDeprecationWarning: The get_cmap function was deprecated in Matplotlib 3.7 and will be removed in 3.11. Use ``matplotlib.colormaps[name]`` or ``matplotlib.colormaps.get_cmap()`` or ``pyplot.get_cmap()`` instead.\n",
      "  cmap_seg = plt.cm.get_cmap('jet')\n"
     ]
    },
    {
     "name": "stdout",
     "output_type": "stream",
     "text": [
      "HTML report saved to ../Data_Organized/397108/DVH_Analysis/397108_DVH_Report.html\n",
      "Processing patient 397533 ...\n"
     ]
    },
    {
     "name": "stderr",
     "output_type": "stream",
     "text": [
      "/tmp/ipykernel_87348/1020125737.py:85: UserWarning: Tight layout not applied. The bottom and top margins cannot be made large enough to accommodate all Axes decorations.\n",
      "  plt.tight_layout()\n",
      "/tmp/ipykernel_87348/1020125737.py:209: MatplotlibDeprecationWarning: The get_cmap function was deprecated in Matplotlib 3.7 and will be removed in 3.11. Use ``matplotlib.colormaps[name]`` or ``matplotlib.colormaps.get_cmap()`` or ``pyplot.get_cmap()`` instead.\n",
      "  cmap_seg = plt.cm.get_cmap('jet')\n"
     ]
    },
    {
     "name": "stdout",
     "output_type": "stream",
     "text": [
      "HTML report saved to ../Data_Organized/397533/DVH_Analysis/397533_DVH_Report.html\n",
      "Processing patient 408175 ...\n"
     ]
    },
    {
     "name": "stderr",
     "output_type": "stream",
     "text": [
      "/tmp/ipykernel_87348/1020125737.py:85: UserWarning: Tight layout not applied. The bottom and top margins cannot be made large enough to accommodate all Axes decorations.\n",
      "  plt.tight_layout()\n",
      "/tmp/ipykernel_87348/1020125737.py:209: MatplotlibDeprecationWarning: The get_cmap function was deprecated in Matplotlib 3.7 and will be removed in 3.11. Use ``matplotlib.colormaps[name]`` or ``matplotlib.colormaps.get_cmap()`` or ``pyplot.get_cmap()`` instead.\n",
      "  cmap_seg = plt.cm.get_cmap('jet')\n"
     ]
    },
    {
     "name": "stdout",
     "output_type": "stream",
     "text": [
      "HTML report saved to ../Data_Organized/408175/DVH_Analysis/408175_DVH_Report.html\n",
      "Processing patient 409350 ...\n"
     ]
    },
    {
     "name": "stderr",
     "output_type": "stream",
     "text": [
      "/tmp/ipykernel_87348/1020125737.py:85: UserWarning: Tight layout not applied. The bottom and top margins cannot be made large enough to accommodate all Axes decorations.\n",
      "  plt.tight_layout()\n",
      "/tmp/ipykernel_87348/1020125737.py:209: MatplotlibDeprecationWarning: The get_cmap function was deprecated in Matplotlib 3.7 and will be removed in 3.11. Use ``matplotlib.colormaps[name]`` or ``matplotlib.colormaps.get_cmap()`` or ``pyplot.get_cmap()`` instead.\n",
      "  cmap_seg = plt.cm.get_cmap('jet')\n"
     ]
    },
    {
     "name": "stdout",
     "output_type": "stream",
     "text": [
      "HTML report saved to ../Data_Organized/409350/DVH_Analysis/409350_DVH_Report.html\n",
      "Processing patient 409778 ...\n"
     ]
    },
    {
     "name": "stderr",
     "output_type": "stream",
     "text": [
      "/tmp/ipykernel_87348/1020125737.py:85: UserWarning: Tight layout not applied. The bottom and top margins cannot be made large enough to accommodate all Axes decorations.\n",
      "  plt.tight_layout()\n",
      "/tmp/ipykernel_87348/1020125737.py:209: MatplotlibDeprecationWarning: The get_cmap function was deprecated in Matplotlib 3.7 and will be removed in 3.11. Use ``matplotlib.colormaps[name]`` or ``matplotlib.colormaps.get_cmap()`` or ``pyplot.get_cmap()`` instead.\n",
      "  cmap_seg = plt.cm.get_cmap('jet')\n"
     ]
    },
    {
     "name": "stdout",
     "output_type": "stream",
     "text": [
      "HTML report saved to ../Data_Organized/409778/DVH_Analysis/409778_DVH_Report.html\n",
      "Processing patient 410305 ...\n"
     ]
    },
    {
     "name": "stderr",
     "output_type": "stream",
     "text": [
      "/tmp/ipykernel_87348/1020125737.py:85: UserWarning: Tight layout not applied. The bottom and top margins cannot be made large enough to accommodate all Axes decorations.\n",
      "  plt.tight_layout()\n",
      "/tmp/ipykernel_87348/1020125737.py:209: MatplotlibDeprecationWarning: The get_cmap function was deprecated in Matplotlib 3.7 and will be removed in 3.11. Use ``matplotlib.colormaps[name]`` or ``matplotlib.colormaps.get_cmap()`` or ``pyplot.get_cmap()`` instead.\n",
      "  cmap_seg = plt.cm.get_cmap('jet')\n"
     ]
    },
    {
     "name": "stdout",
     "output_type": "stream",
     "text": [
      "HTML report saved to ../Data_Organized/410305/DVH_Analysis/410305_DVH_Report.html\n",
      "Processing patient 410696 ...\n"
     ]
    },
    {
     "name": "stderr",
     "output_type": "stream",
     "text": [
      "/tmp/ipykernel_87348/1020125737.py:85: UserWarning: Tight layout not applied. The bottom and top margins cannot be made large enough to accommodate all Axes decorations.\n",
      "  plt.tight_layout()\n",
      "/tmp/ipykernel_87348/1020125737.py:209: MatplotlibDeprecationWarning: The get_cmap function was deprecated in Matplotlib 3.7 and will be removed in 3.11. Use ``matplotlib.colormaps[name]`` or ``matplotlib.colormaps.get_cmap()`` or ``pyplot.get_cmap()`` instead.\n",
      "  cmap_seg = plt.cm.get_cmap('jet')\n"
     ]
    },
    {
     "name": "stdout",
     "output_type": "stream",
     "text": [
      "HTML report saved to ../Data_Organized/410696/DVH_Analysis/410696_DVH_Report.html\n",
      "Processing patient 411548 ...\n",
      "No TotalSegmentator structures found in DVH data.\n",
      "No DICOM series found in ../Data_Organized/411548/CT_DICOM\n",
      "CT or segmentation not available for overlay in patient 411548\n",
      "HTML report saved to ../Data_Organized/411548/DVH_Analysis/411548_DVH_Report.html\n",
      "Processing patient 411558 ...\n"
     ]
    },
    {
     "name": "stderr",
     "output_type": "stream",
     "text": [
      "WARNING: In /tmp/SimpleITK-build/ITK/Modules/IO/GDCM/src/itkGDCMSeriesFileNames.cxx, line 68\n",
      "GDCMSeriesFileNames (0x9ad1d70): ../Data_Organized/411548/CT_DICOM is not a directory\n",
      "\n",
      "WARNING: In /tmp/SimpleITK-build/ITK/Modules/IO/GDCM/src/itkGDCMSeriesFileNames.cxx, line 101\n",
      "GDCMSeriesFileNames (0x9ad1d70): No Series were found\n",
      "\n",
      "/tmp/ipykernel_87348/1020125737.py:85: UserWarning: Tight layout not applied. The bottom and top margins cannot be made large enough to accommodate all Axes decorations.\n",
      "  plt.tight_layout()\n",
      "/tmp/ipykernel_87348/1020125737.py:209: MatplotlibDeprecationWarning: The get_cmap function was deprecated in Matplotlib 3.7 and will be removed in 3.11. Use ``matplotlib.colormaps[name]`` or ``matplotlib.colormaps.get_cmap()`` or ``pyplot.get_cmap()`` instead.\n",
      "  cmap_seg = plt.cm.get_cmap('jet')\n"
     ]
    },
    {
     "name": "stdout",
     "output_type": "stream",
     "text": [
      "HTML report saved to ../Data_Organized/411558/DVH_Analysis/411558_DVH_Report.html\n",
      "Processing patient 411888 ...\n"
     ]
    },
    {
     "name": "stderr",
     "output_type": "stream",
     "text": [
      "/tmp/ipykernel_87348/1020125737.py:85: UserWarning: Tight layout not applied. The bottom and top margins cannot be made large enough to accommodate all Axes decorations.\n",
      "  plt.tight_layout()\n",
      "/tmp/ipykernel_87348/1020125737.py:209: MatplotlibDeprecationWarning: The get_cmap function was deprecated in Matplotlib 3.7 and will be removed in 3.11. Use ``matplotlib.colormaps[name]`` or ``matplotlib.colormaps.get_cmap()`` or ``pyplot.get_cmap()`` instead.\n",
      "  cmap_seg = plt.cm.get_cmap('jet')\n"
     ]
    },
    {
     "name": "stdout",
     "output_type": "stream",
     "text": [
      "HTML report saved to ../Data_Organized/411888/DVH_Analysis/411888_DVH_Report.html\n",
      "Processing patient 412364 ...\n"
     ]
    },
    {
     "name": "stderr",
     "output_type": "stream",
     "text": [
      "/tmp/ipykernel_87348/1020125737.py:85: UserWarning: Tight layout not applied. The bottom and top margins cannot be made large enough to accommodate all Axes decorations.\n",
      "  plt.tight_layout()\n",
      "/tmp/ipykernel_87348/1020125737.py:209: MatplotlibDeprecationWarning: The get_cmap function was deprecated in Matplotlib 3.7 and will be removed in 3.11. Use ``matplotlib.colormaps[name]`` or ``matplotlib.colormaps.get_cmap()`` or ``pyplot.get_cmap()`` instead.\n",
      "  cmap_seg = plt.cm.get_cmap('jet')\n"
     ]
    },
    {
     "name": "stdout",
     "output_type": "stream",
     "text": [
      "HTML report saved to ../Data_Organized/412364/DVH_Analysis/412364_DVH_Report.html\n",
      "Processing patient 414000 ...\n"
     ]
    },
    {
     "name": "stderr",
     "output_type": "stream",
     "text": [
      "/tmp/ipykernel_87348/1020125737.py:85: UserWarning: Tight layout not applied. The bottom and top margins cannot be made large enough to accommodate all Axes decorations.\n",
      "  plt.tight_layout()\n",
      "/tmp/ipykernel_87348/1020125737.py:209: MatplotlibDeprecationWarning: The get_cmap function was deprecated in Matplotlib 3.7 and will be removed in 3.11. Use ``matplotlib.colormaps[name]`` or ``matplotlib.colormaps.get_cmap()`` or ``pyplot.get_cmap()`` instead.\n",
      "  cmap_seg = plt.cm.get_cmap('jet')\n"
     ]
    },
    {
     "name": "stdout",
     "output_type": "stream",
     "text": [
      "HTML report saved to ../Data_Organized/414000/DVH_Analysis/414000_DVH_Report.html\n",
      "Processing patient 414671 ...\n"
     ]
    },
    {
     "name": "stderr",
     "output_type": "stream",
     "text": [
      "/tmp/ipykernel_87348/1020125737.py:209: MatplotlibDeprecationWarning: The get_cmap function was deprecated in Matplotlib 3.7 and will be removed in 3.11. Use ``matplotlib.colormaps[name]`` or ``matplotlib.colormaps.get_cmap()`` or ``pyplot.get_cmap()`` instead.\n",
      "  cmap_seg = plt.cm.get_cmap('jet')\n"
     ]
    },
    {
     "name": "stdout",
     "output_type": "stream",
     "text": [
      "HTML report saved to ../Data_Organized/414671/DVH_Analysis/414671_DVH_Report.html\n",
      "Processing patient 415440 ...\n"
     ]
    },
    {
     "name": "stderr",
     "output_type": "stream",
     "text": [
      "/tmp/ipykernel_87348/1020125737.py:85: UserWarning: Tight layout not applied. The bottom and top margins cannot be made large enough to accommodate all Axes decorations.\n",
      "  plt.tight_layout()\n",
      "/tmp/ipykernel_87348/1020125737.py:209: MatplotlibDeprecationWarning: The get_cmap function was deprecated in Matplotlib 3.7 and will be removed in 3.11. Use ``matplotlib.colormaps[name]`` or ``matplotlib.colormaps.get_cmap()`` or ``pyplot.get_cmap()`` instead.\n",
      "  cmap_seg = plt.cm.get_cmap('jet')\n"
     ]
    },
    {
     "name": "stdout",
     "output_type": "stream",
     "text": [
      "HTML report saved to ../Data_Organized/415440/DVH_Analysis/415440_DVH_Report.html\n",
      "Processing patient 415701 ...\n"
     ]
    },
    {
     "name": "stderr",
     "output_type": "stream",
     "text": [
      "/tmp/ipykernel_87348/1020125737.py:85: UserWarning: Tight layout not applied. The bottom and top margins cannot be made large enough to accommodate all Axes decorations.\n",
      "  plt.tight_layout()\n",
      "/tmp/ipykernel_87348/1020125737.py:209: MatplotlibDeprecationWarning: The get_cmap function was deprecated in Matplotlib 3.7 and will be removed in 3.11. Use ``matplotlib.colormaps[name]`` or ``matplotlib.colormaps.get_cmap()`` or ``pyplot.get_cmap()`` instead.\n",
      "  cmap_seg = plt.cm.get_cmap('jet')\n"
     ]
    },
    {
     "name": "stdout",
     "output_type": "stream",
     "text": [
      "HTML report saved to ../Data_Organized/415701/DVH_Analysis/415701_DVH_Report.html\n",
      "Processing patient 416435 ...\n"
     ]
    },
    {
     "name": "stderr",
     "output_type": "stream",
     "text": [
      "/tmp/ipykernel_87348/1020125737.py:85: UserWarning: Tight layout not applied. The bottom and top margins cannot be made large enough to accommodate all Axes decorations.\n",
      "  plt.tight_layout()\n",
      "/tmp/ipykernel_87348/1020125737.py:209: MatplotlibDeprecationWarning: The get_cmap function was deprecated in Matplotlib 3.7 and will be removed in 3.11. Use ``matplotlib.colormaps[name]`` or ``matplotlib.colormaps.get_cmap()`` or ``pyplot.get_cmap()`` instead.\n",
      "  cmap_seg = plt.cm.get_cmap('jet')\n"
     ]
    },
    {
     "name": "stdout",
     "output_type": "stream",
     "text": [
      "HTML report saved to ../Data_Organized/416435/DVH_Analysis/416435_DVH_Report.html\n",
      "Processing patient 416842 ...\n"
     ]
    },
    {
     "name": "stderr",
     "output_type": "stream",
     "text": [
      "/tmp/ipykernel_87348/1020125737.py:85: UserWarning: Tight layout not applied. The bottom and top margins cannot be made large enough to accommodate all Axes decorations.\n",
      "  plt.tight_layout()\n",
      "/tmp/ipykernel_87348/1020125737.py:209: MatplotlibDeprecationWarning: The get_cmap function was deprecated in Matplotlib 3.7 and will be removed in 3.11. Use ``matplotlib.colormaps[name]`` or ``matplotlib.colormaps.get_cmap()`` or ``pyplot.get_cmap()`` instead.\n",
      "  cmap_seg = plt.cm.get_cmap('jet')\n"
     ]
    },
    {
     "name": "stdout",
     "output_type": "stream",
     "text": [
      "HTML report saved to ../Data_Organized/416842/DVH_Analysis/416842_DVH_Report.html\n",
      "Processing patient 416854 ...\n"
     ]
    },
    {
     "name": "stderr",
     "output_type": "stream",
     "text": [
      "/tmp/ipykernel_87348/1020125737.py:85: UserWarning: Tight layout not applied. The bottom and top margins cannot be made large enough to accommodate all Axes decorations.\n",
      "  plt.tight_layout()\n",
      "/tmp/ipykernel_87348/1020125737.py:209: MatplotlibDeprecationWarning: The get_cmap function was deprecated in Matplotlib 3.7 and will be removed in 3.11. Use ``matplotlib.colormaps[name]`` or ``matplotlib.colormaps.get_cmap()`` or ``pyplot.get_cmap()`` instead.\n",
      "  cmap_seg = plt.cm.get_cmap('jet')\n"
     ]
    },
    {
     "name": "stdout",
     "output_type": "stream",
     "text": [
      "HTML report saved to ../Data_Organized/416854/DVH_Analysis/416854_DVH_Report.html\n",
      "Processing patient 416856 ...\n"
     ]
    },
    {
     "name": "stderr",
     "output_type": "stream",
     "text": [
      "/tmp/ipykernel_87348/1020125737.py:85: UserWarning: Tight layout not applied. The bottom and top margins cannot be made large enough to accommodate all Axes decorations.\n",
      "  plt.tight_layout()\n",
      "/tmp/ipykernel_87348/1020125737.py:209: MatplotlibDeprecationWarning: The get_cmap function was deprecated in Matplotlib 3.7 and will be removed in 3.11. Use ``matplotlib.colormaps[name]`` or ``matplotlib.colormaps.get_cmap()`` or ``pyplot.get_cmap()`` instead.\n",
      "  cmap_seg = plt.cm.get_cmap('jet')\n"
     ]
    },
    {
     "name": "stdout",
     "output_type": "stream",
     "text": [
      "HTML report saved to ../Data_Organized/416856/DVH_Analysis/416856_DVH_Report.html\n",
      "Processing patient 416857 ...\n"
     ]
    },
    {
     "name": "stderr",
     "output_type": "stream",
     "text": [
      "/tmp/ipykernel_87348/1020125737.py:85: UserWarning: Tight layout not applied. The bottom and top margins cannot be made large enough to accommodate all Axes decorations.\n",
      "  plt.tight_layout()\n",
      "/tmp/ipykernel_87348/1020125737.py:209: MatplotlibDeprecationWarning: The get_cmap function was deprecated in Matplotlib 3.7 and will be removed in 3.11. Use ``matplotlib.colormaps[name]`` or ``matplotlib.colormaps.get_cmap()`` or ``pyplot.get_cmap()`` instead.\n",
      "  cmap_seg = plt.cm.get_cmap('jet')\n"
     ]
    },
    {
     "name": "stdout",
     "output_type": "stream",
     "text": [
      "HTML report saved to ../Data_Organized/416857/DVH_Analysis/416857_DVH_Report.html\n",
      "Processing patient 418131 ...\n"
     ]
    },
    {
     "name": "stderr",
     "output_type": "stream",
     "text": [
      "/tmp/ipykernel_87348/1020125737.py:85: UserWarning: Tight layout not applied. The bottom and top margins cannot be made large enough to accommodate all Axes decorations.\n",
      "  plt.tight_layout()\n",
      "/tmp/ipykernel_87348/1020125737.py:209: MatplotlibDeprecationWarning: The get_cmap function was deprecated in Matplotlib 3.7 and will be removed in 3.11. Use ``matplotlib.colormaps[name]`` or ``matplotlib.colormaps.get_cmap()`` or ``pyplot.get_cmap()`` instead.\n",
      "  cmap_seg = plt.cm.get_cmap('jet')\n"
     ]
    },
    {
     "name": "stdout",
     "output_type": "stream",
     "text": [
      "HTML report saved to ../Data_Organized/418131/DVH_Analysis/418131_DVH_Report.html\n",
      "Processing patient 418293 ...\n"
     ]
    },
    {
     "name": "stderr",
     "output_type": "stream",
     "text": [
      "/tmp/ipykernel_87348/1020125737.py:85: UserWarning: Tight layout not applied. The bottom and top margins cannot be made large enough to accommodate all Axes decorations.\n",
      "  plt.tight_layout()\n",
      "/tmp/ipykernel_87348/1020125737.py:209: MatplotlibDeprecationWarning: The get_cmap function was deprecated in Matplotlib 3.7 and will be removed in 3.11. Use ``matplotlib.colormaps[name]`` or ``matplotlib.colormaps.get_cmap()`` or ``pyplot.get_cmap()`` instead.\n",
      "  cmap_seg = plt.cm.get_cmap('jet')\n"
     ]
    },
    {
     "name": "stdout",
     "output_type": "stream",
     "text": [
      "HTML report saved to ../Data_Organized/418293/DVH_Analysis/418293_DVH_Report.html\n",
      "Processing patient 419017 ...\n"
     ]
    },
    {
     "name": "stderr",
     "output_type": "stream",
     "text": [
      "/tmp/ipykernel_87348/1020125737.py:85: UserWarning: Tight layout not applied. The bottom and top margins cannot be made large enough to accommodate all Axes decorations.\n",
      "  plt.tight_layout()\n",
      "/tmp/ipykernel_87348/1020125737.py:209: MatplotlibDeprecationWarning: The get_cmap function was deprecated in Matplotlib 3.7 and will be removed in 3.11. Use ``matplotlib.colormaps[name]`` or ``matplotlib.colormaps.get_cmap()`` or ``pyplot.get_cmap()`` instead.\n",
      "  cmap_seg = plt.cm.get_cmap('jet')\n"
     ]
    },
    {
     "name": "stdout",
     "output_type": "stream",
     "text": [
      "HTML report saved to ../Data_Organized/419017/DVH_Analysis/419017_DVH_Report.html\n",
      "Processing patient 419867 ...\n"
     ]
    },
    {
     "name": "stderr",
     "output_type": "stream",
     "text": [
      "/tmp/ipykernel_87348/1020125737.py:85: UserWarning: Tight layout not applied. The bottom and top margins cannot be made large enough to accommodate all Axes decorations.\n",
      "  plt.tight_layout()\n",
      "/tmp/ipykernel_87348/1020125737.py:209: MatplotlibDeprecationWarning: The get_cmap function was deprecated in Matplotlib 3.7 and will be removed in 3.11. Use ``matplotlib.colormaps[name]`` or ``matplotlib.colormaps.get_cmap()`` or ``pyplot.get_cmap()`` instead.\n",
      "  cmap_seg = plt.cm.get_cmap('jet')\n"
     ]
    },
    {
     "name": "stdout",
     "output_type": "stream",
     "text": [
      "HTML report saved to ../Data_Organized/419867/DVH_Analysis/419867_DVH_Report.html\n",
      "Processing patient 420945 ...\n"
     ]
    },
    {
     "name": "stderr",
     "output_type": "stream",
     "text": [
      "/tmp/ipykernel_87348/1020125737.py:85: UserWarning: Tight layout not applied. The bottom and top margins cannot be made large enough to accommodate all Axes decorations.\n",
      "  plt.tight_layout()\n",
      "/tmp/ipykernel_87348/1020125737.py:209: MatplotlibDeprecationWarning: The get_cmap function was deprecated in Matplotlib 3.7 and will be removed in 3.11. Use ``matplotlib.colormaps[name]`` or ``matplotlib.colormaps.get_cmap()`` or ``pyplot.get_cmap()`` instead.\n",
      "  cmap_seg = plt.cm.get_cmap('jet')\n"
     ]
    },
    {
     "name": "stdout",
     "output_type": "stream",
     "text": [
      "HTML report saved to ../Data_Organized/420945/DVH_Analysis/420945_DVH_Report.html\n",
      "Processing patient 420993 ...\n"
     ]
    },
    {
     "name": "stderr",
     "output_type": "stream",
     "text": [
      "/tmp/ipykernel_87348/1020125737.py:85: UserWarning: Tight layout not applied. The bottom and top margins cannot be made large enough to accommodate all Axes decorations.\n",
      "  plt.tight_layout()\n",
      "/tmp/ipykernel_87348/1020125737.py:209: MatplotlibDeprecationWarning: The get_cmap function was deprecated in Matplotlib 3.7 and will be removed in 3.11. Use ``matplotlib.colormaps[name]`` or ``matplotlib.colormaps.get_cmap()`` or ``pyplot.get_cmap()`` instead.\n",
      "  cmap_seg = plt.cm.get_cmap('jet')\n"
     ]
    },
    {
     "name": "stdout",
     "output_type": "stream",
     "text": [
      "HTML report saved to ../Data_Organized/420993/DVH_Analysis/420993_DVH_Report.html\n",
      "Processing patient 421416 ...\n"
     ]
    },
    {
     "name": "stderr",
     "output_type": "stream",
     "text": [
      "/tmp/ipykernel_87348/1020125737.py:85: UserWarning: Tight layout not applied. The bottom and top margins cannot be made large enough to accommodate all Axes decorations.\n",
      "  plt.tight_layout()\n",
      "/tmp/ipykernel_87348/1020125737.py:209: MatplotlibDeprecationWarning: The get_cmap function was deprecated in Matplotlib 3.7 and will be removed in 3.11. Use ``matplotlib.colormaps[name]`` or ``matplotlib.colormaps.get_cmap()`` or ``pyplot.get_cmap()`` instead.\n",
      "  cmap_seg = plt.cm.get_cmap('jet')\n"
     ]
    },
    {
     "name": "stdout",
     "output_type": "stream",
     "text": [
      "HTML report saved to ../Data_Organized/421416/DVH_Analysis/421416_DVH_Report.html\n",
      "Processing patient 422117 ...\n"
     ]
    },
    {
     "name": "stderr",
     "output_type": "stream",
     "text": [
      "/tmp/ipykernel_87348/1020125737.py:85: UserWarning: Tight layout not applied. The bottom and top margins cannot be made large enough to accommodate all Axes decorations.\n",
      "  plt.tight_layout()\n",
      "/tmp/ipykernel_87348/1020125737.py:209: MatplotlibDeprecationWarning: The get_cmap function was deprecated in Matplotlib 3.7 and will be removed in 3.11. Use ``matplotlib.colormaps[name]`` or ``matplotlib.colormaps.get_cmap()`` or ``pyplot.get_cmap()`` instead.\n",
      "  cmap_seg = plt.cm.get_cmap('jet')\n"
     ]
    },
    {
     "name": "stdout",
     "output_type": "stream",
     "text": [
      "HTML report saved to ../Data_Organized/422117/DVH_Analysis/422117_DVH_Report.html\n",
      "Processing patient 422239 ...\n"
     ]
    },
    {
     "name": "stderr",
     "output_type": "stream",
     "text": [
      "/tmp/ipykernel_87348/1020125737.py:85: UserWarning: Tight layout not applied. The bottom and top margins cannot be made large enough to accommodate all Axes decorations.\n",
      "  plt.tight_layout()\n",
      "/tmp/ipykernel_87348/1020125737.py:209: MatplotlibDeprecationWarning: The get_cmap function was deprecated in Matplotlib 3.7 and will be removed in 3.11. Use ``matplotlib.colormaps[name]`` or ``matplotlib.colormaps.get_cmap()`` or ``pyplot.get_cmap()`` instead.\n",
      "  cmap_seg = plt.cm.get_cmap('jet')\n"
     ]
    },
    {
     "name": "stdout",
     "output_type": "stream",
     "text": [
      "HTML report saved to ../Data_Organized/422239/DVH_Analysis/422239_DVH_Report.html\n",
      "Processing patient 422440 ...\n"
     ]
    },
    {
     "name": "stderr",
     "output_type": "stream",
     "text": [
      "/tmp/ipykernel_87348/1020125737.py:85: UserWarning: Tight layout not applied. The bottom and top margins cannot be made large enough to accommodate all Axes decorations.\n",
      "  plt.tight_layout()\n",
      "/tmp/ipykernel_87348/1020125737.py:209: MatplotlibDeprecationWarning: The get_cmap function was deprecated in Matplotlib 3.7 and will be removed in 3.11. Use ``matplotlib.colormaps[name]`` or ``matplotlib.colormaps.get_cmap()`` or ``pyplot.get_cmap()`` instead.\n",
      "  cmap_seg = plt.cm.get_cmap('jet')\n"
     ]
    },
    {
     "name": "stdout",
     "output_type": "stream",
     "text": [
      "HTML report saved to ../Data_Organized/422440/DVH_Analysis/422440_DVH_Report.html\n",
      "Processing patient 422611 ...\n"
     ]
    },
    {
     "name": "stderr",
     "output_type": "stream",
     "text": [
      "/tmp/ipykernel_87348/1020125737.py:85: UserWarning: Tight layout not applied. The bottom and top margins cannot be made large enough to accommodate all Axes decorations.\n",
      "  plt.tight_layout()\n",
      "/tmp/ipykernel_87348/1020125737.py:209: MatplotlibDeprecationWarning: The get_cmap function was deprecated in Matplotlib 3.7 and will be removed in 3.11. Use ``matplotlib.colormaps[name]`` or ``matplotlib.colormaps.get_cmap()`` or ``pyplot.get_cmap()`` instead.\n",
      "  cmap_seg = plt.cm.get_cmap('jet')\n"
     ]
    },
    {
     "name": "stdout",
     "output_type": "stream",
     "text": [
      "HTML report saved to ../Data_Organized/422611/DVH_Analysis/422611_DVH_Report.html\n",
      "Processing patient 423019 ...\n"
     ]
    },
    {
     "name": "stderr",
     "output_type": "stream",
     "text": [
      "/tmp/ipykernel_87348/1020125737.py:85: UserWarning: Tight layout not applied. The bottom and top margins cannot be made large enough to accommodate all Axes decorations.\n",
      "  plt.tight_layout()\n",
      "/tmp/ipykernel_87348/1020125737.py:209: MatplotlibDeprecationWarning: The get_cmap function was deprecated in Matplotlib 3.7 and will be removed in 3.11. Use ``matplotlib.colormaps[name]`` or ``matplotlib.colormaps.get_cmap()`` or ``pyplot.get_cmap()`` instead.\n",
      "  cmap_seg = plt.cm.get_cmap('jet')\n"
     ]
    },
    {
     "name": "stdout",
     "output_type": "stream",
     "text": [
      "HTML report saved to ../Data_Organized/423019/DVH_Analysis/423019_DVH_Report.html\n",
      "Processing patient 423199 ...\n"
     ]
    },
    {
     "name": "stderr",
     "output_type": "stream",
     "text": [
      "/tmp/ipykernel_87348/1020125737.py:85: UserWarning: Tight layout not applied. The bottom and top margins cannot be made large enough to accommodate all Axes decorations.\n",
      "  plt.tight_layout()\n",
      "/tmp/ipykernel_87348/1020125737.py:209: MatplotlibDeprecationWarning: The get_cmap function was deprecated in Matplotlib 3.7 and will be removed in 3.11. Use ``matplotlib.colormaps[name]`` or ``matplotlib.colormaps.get_cmap()`` or ``pyplot.get_cmap()`` instead.\n",
      "  cmap_seg = plt.cm.get_cmap('jet')\n"
     ]
    },
    {
     "name": "stdout",
     "output_type": "stream",
     "text": [
      "HTML report saved to ../Data_Organized/423199/DVH_Analysis/423199_DVH_Report.html\n",
      "Processing patient 423342 ...\n"
     ]
    },
    {
     "name": "stderr",
     "output_type": "stream",
     "text": [
      "/tmp/ipykernel_87348/1020125737.py:85: UserWarning: Tight layout not applied. The bottom and top margins cannot be made large enough to accommodate all Axes decorations.\n",
      "  plt.tight_layout()\n",
      "/tmp/ipykernel_87348/1020125737.py:209: MatplotlibDeprecationWarning: The get_cmap function was deprecated in Matplotlib 3.7 and will be removed in 3.11. Use ``matplotlib.colormaps[name]`` or ``matplotlib.colormaps.get_cmap()`` or ``pyplot.get_cmap()`` instead.\n",
      "  cmap_seg = plt.cm.get_cmap('jet')\n"
     ]
    },
    {
     "name": "stdout",
     "output_type": "stream",
     "text": [
      "HTML report saved to ../Data_Organized/423342/DVH_Analysis/423342_DVH_Report.html\n",
      "Processing patient 423478 ...\n"
     ]
    },
    {
     "name": "stderr",
     "output_type": "stream",
     "text": [
      "/tmp/ipykernel_87348/1020125737.py:85: UserWarning: Tight layout not applied. The bottom and top margins cannot be made large enough to accommodate all Axes decorations.\n",
      "  plt.tight_layout()\n",
      "/tmp/ipykernel_87348/1020125737.py:209: MatplotlibDeprecationWarning: The get_cmap function was deprecated in Matplotlib 3.7 and will be removed in 3.11. Use ``matplotlib.colormaps[name]`` or ``matplotlib.colormaps.get_cmap()`` or ``pyplot.get_cmap()`` instead.\n",
      "  cmap_seg = plt.cm.get_cmap('jet')\n"
     ]
    },
    {
     "name": "stdout",
     "output_type": "stream",
     "text": [
      "HTML report saved to ../Data_Organized/423478/DVH_Analysis/423478_DVH_Report.html\n",
      "Processing patient 424339 ...\n"
     ]
    },
    {
     "name": "stderr",
     "output_type": "stream",
     "text": [
      "/tmp/ipykernel_87348/1020125737.py:85: UserWarning: Tight layout not applied. The bottom and top margins cannot be made large enough to accommodate all Axes decorations.\n",
      "  plt.tight_layout()\n",
      "/tmp/ipykernel_87348/1020125737.py:209: MatplotlibDeprecationWarning: The get_cmap function was deprecated in Matplotlib 3.7 and will be removed in 3.11. Use ``matplotlib.colormaps[name]`` or ``matplotlib.colormaps.get_cmap()`` or ``pyplot.get_cmap()`` instead.\n",
      "  cmap_seg = plt.cm.get_cmap('jet')\n"
     ]
    },
    {
     "name": "stdout",
     "output_type": "stream",
     "text": [
      "HTML report saved to ../Data_Organized/424339/DVH_Analysis/424339_DVH_Report.html\n",
      "Processing patient 424513 ...\n"
     ]
    },
    {
     "name": "stderr",
     "output_type": "stream",
     "text": [
      "/tmp/ipykernel_87348/1020125737.py:85: UserWarning: Tight layout not applied. The bottom and top margins cannot be made large enough to accommodate all Axes decorations.\n",
      "  plt.tight_layout()\n",
      "/tmp/ipykernel_87348/1020125737.py:209: MatplotlibDeprecationWarning: The get_cmap function was deprecated in Matplotlib 3.7 and will be removed in 3.11. Use ``matplotlib.colormaps[name]`` or ``matplotlib.colormaps.get_cmap()`` or ``pyplot.get_cmap()`` instead.\n",
      "  cmap_seg = plt.cm.get_cmap('jet')\n"
     ]
    },
    {
     "name": "stdout",
     "output_type": "stream",
     "text": [
      "HTML report saved to ../Data_Organized/424513/DVH_Analysis/424513_DVH_Report.html\n",
      "Processing patient 424514 ...\n"
     ]
    },
    {
     "name": "stderr",
     "output_type": "stream",
     "text": [
      "/tmp/ipykernel_87348/1020125737.py:85: UserWarning: Tight layout not applied. The bottom and top margins cannot be made large enough to accommodate all Axes decorations.\n",
      "  plt.tight_layout()\n",
      "/tmp/ipykernel_87348/1020125737.py:209: MatplotlibDeprecationWarning: The get_cmap function was deprecated in Matplotlib 3.7 and will be removed in 3.11. Use ``matplotlib.colormaps[name]`` or ``matplotlib.colormaps.get_cmap()`` or ``pyplot.get_cmap()`` instead.\n",
      "  cmap_seg = plt.cm.get_cmap('jet')\n"
     ]
    },
    {
     "name": "stdout",
     "output_type": "stream",
     "text": [
      "HTML report saved to ../Data_Organized/424514/DVH_Analysis/424514_DVH_Report.html\n",
      "Processing patient 425484 ...\n"
     ]
    },
    {
     "name": "stderr",
     "output_type": "stream",
     "text": [
      "/tmp/ipykernel_87348/1020125737.py:85: UserWarning: Tight layout not applied. The bottom and top margins cannot be made large enough to accommodate all Axes decorations.\n",
      "  plt.tight_layout()\n",
      "/tmp/ipykernel_87348/1020125737.py:209: MatplotlibDeprecationWarning: The get_cmap function was deprecated in Matplotlib 3.7 and will be removed in 3.11. Use ``matplotlib.colormaps[name]`` or ``matplotlib.colormaps.get_cmap()`` or ``pyplot.get_cmap()`` instead.\n",
      "  cmap_seg = plt.cm.get_cmap('jet')\n"
     ]
    },
    {
     "name": "stdout",
     "output_type": "stream",
     "text": [
      "HTML report saved to ../Data_Organized/425484/DVH_Analysis/425484_DVH_Report.html\n",
      "Processing patient 426308 ...\n"
     ]
    },
    {
     "name": "stderr",
     "output_type": "stream",
     "text": [
      "/tmp/ipykernel_87348/1020125737.py:85: UserWarning: Tight layout not applied. The bottom and top margins cannot be made large enough to accommodate all Axes decorations.\n",
      "  plt.tight_layout()\n",
      "/tmp/ipykernel_87348/1020125737.py:209: MatplotlibDeprecationWarning: The get_cmap function was deprecated in Matplotlib 3.7 and will be removed in 3.11. Use ``matplotlib.colormaps[name]`` or ``matplotlib.colormaps.get_cmap()`` or ``pyplot.get_cmap()`` instead.\n",
      "  cmap_seg = plt.cm.get_cmap('jet')\n"
     ]
    },
    {
     "name": "stdout",
     "output_type": "stream",
     "text": [
      "HTML report saved to ../Data_Organized/426308/DVH_Analysis/426308_DVH_Report.html\n",
      "Processing patient 426496 ...\n"
     ]
    },
    {
     "name": "stderr",
     "output_type": "stream",
     "text": [
      "/tmp/ipykernel_87348/1020125737.py:85: UserWarning: Tight layout not applied. The bottom and top margins cannot be made large enough to accommodate all Axes decorations.\n",
      "  plt.tight_layout()\n"
     ]
    }
   ],
   "source": [
    "generate_dvh_html_report(base_dir=\"../Data_Organized\")"
   ]
  }
 ],
 "metadata": {
  "kernelspec": {
   "display_name": "Python 3 (ipykernel)",
   "language": "python",
   "name": "python3"
  },
  "language_info": {
   "codemirror_mode": {
    "name": "ipython",
    "version": 3
   },
   "file_extension": ".py",
   "mimetype": "text/x-python",
   "name": "python",
   "nbconvert_exporter": "python",
   "pygments_lexer": "ipython3",
   "version": "3.10.16"
  }
 },
 "nbformat": 4,
 "nbformat_minor": 5
}

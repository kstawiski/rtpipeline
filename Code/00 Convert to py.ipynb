{
 "cells": [
  {
   "cell_type": "code",
   "execution_count": 2,
   "id": "b505a3de-7148-411d-97be-d02e61719e61",
   "metadata": {},
   "outputs": [
    {
     "name": "stdout",
     "output_type": "stream",
     "text": [
      "Error converting ._01 Get CT details.ipynb: Notebook does not appear to be JSON: '\\x00\\x05\\x16\\x07\\x00\\x02\\x00\\x00Netatal...\n",
      "Converted: 00 Convert to py.ipynb → ./00 Convert to py.py\n",
      "Converted: 01 Get CT details.ipynb → ./01 Get CT details.py\n",
      "Converted: 02 Get RT details.ipynb → ./02 Get RT details.py\n",
      "Converted: 03 Prepare metadata.ipynb → ./03 Prepare metadata.py\n",
      "Converted: 04 Organize part 1.ipynb → ./04 Organize part 1.py\n",
      "Converted: 04 Organize.ipynb → ./04 Organize.py\n",
      "Converted: 05 TotalSegmentator.ipynb → ./05 TotalSegmentator.py\n",
      "Converted: 06 DHV (all).ipynb → ./06 DHV (all).py\n",
      "Converted: 06 DVH (single test).ipynb → ./06 DVH (single test).py\n",
      "Converted: 07 DVH Visualize.ipynb → ./07 DVH Visualize.py\n",
      "Converted: 08 Extract labs.ipynb → ./08 Extract labs.py\n"
     ]
    }
   ],
   "source": [
    "import os\n",
    "import nbformat\n",
    "\n",
    "def convert_ipynb_to_py(directory=\".\"):\n",
    "    for file in os.listdir(directory):\n",
    "        if file.endswith(\".ipynb\"):\n",
    "            notebook_path = os.path.join(directory, file)\n",
    "            output_path = os.path.splitext(notebook_path)[0] + \".py\"\n",
    "\n",
    "            try:\n",
    "                # Read in binary mode, then decode explicitly\n",
    "                with open(notebook_path, \"rb\") as nb_file:\n",
    "                    nb_content = nb_file.read().decode(\"utf-8\", errors=\"replace\")  # Replaces problematic characters\n",
    "                \n",
    "                # Parse notebook content\n",
    "                notebook = nbformat.reads(nb_content, as_version=4)\n",
    "\n",
    "                # Write only code cells to the .py file\n",
    "                with open(output_path, \"w\", encoding=\"utf-8\") as py_file:\n",
    "                    for cell in notebook.cells:\n",
    "                        if cell.cell_type == \"code\":\n",
    "                            py_file.write(cell.source + \"\\n\\n\")\n",
    "\n",
    "                print(f\"Converted: {file} → {output_path}\")\n",
    "\n",
    "            except Exception as e:\n",
    "                print(f\"Error converting {file}: {e}\")\n",
    "\n",
    "# Run the function in the current directory\n",
    "convert_ipynb_to_py()"
   ]
  }
 ],
 "metadata": {
  "kernelspec": {
   "display_name": "Python 3 (ipykernel)",
   "language": "python",
   "name": "python3"
  },
  "language_info": {
   "codemirror_mode": {
    "name": "ipython",
    "version": 3
   },
   "file_extension": ".py",
   "mimetype": "text/x-python",
   "name": "python",
   "nbconvert_exporter": "python",
   "pygments_lexer": "ipython3",
   "version": "3.12.8"
  }
 },
 "nbformat": 4,
 "nbformat_minor": 5
}
